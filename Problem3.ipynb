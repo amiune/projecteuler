{
 "cells": [
  {
   "cell_type": "code",
   "execution_count": 20,
   "metadata": {},
   "outputs": [
    {
     "name": "stdout",
     "output_type": "stream",
     "text": [
      "6857\n"
     ]
    }
   ],
   "source": [
    "from math import sqrt\n",
    "\n",
    "def isPrime(number):\n",
    "    return all(number % i for i in range(2,int(sqrt(number)+1)))\n",
    "\n",
    "N = 600851475143\n",
    "largestPrimeFactor = 2\n",
    "\n",
    "while N != 1:\n",
    "    if N % largestPrimeFactor == 0:\n",
    "        N = N / largestPrimeFactor\n",
    "    else:\n",
    "        for i in range(largestPrimeFactor + 1, int(N)+1):\n",
    "            if isPrime(i):\n",
    "                largestPrimeFactor = i\n",
    "                break\n",
    "\n",
    "print(largestPrimeFactor)\n",
    "\n"
   ]
  },
  {
   "cell_type": "code",
   "execution_count": null,
   "metadata": {},
   "outputs": [],
   "source": []
  },
  {
   "cell_type": "code",
   "execution_count": null,
   "metadata": {},
   "outputs": [],
   "source": []
  }
 ],
 "metadata": {
  "kernelspec": {
   "display_name": "Python 3",
   "language": "python",
   "name": "python3"
  },
  "language_info": {
   "codemirror_mode": {
    "name": "ipython",
    "version": 3
   },
   "file_extension": ".py",
   "mimetype": "text/x-python",
   "name": "python",
   "nbconvert_exporter": "python",
   "pygments_lexer": "ipython3",
   "version": "3.6.8"
  }
 },
 "nbformat": 4,
 "nbformat_minor": 2
}
