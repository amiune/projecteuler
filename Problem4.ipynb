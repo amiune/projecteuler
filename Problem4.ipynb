{
 "cells": [
  {
   "cell_type": "code",
   "execution_count": 21,
   "metadata": {},
   "outputs": [
    {
     "name": "stdout",
     "output_type": "stream",
     "text": [
      "906609\n"
     ]
    }
   ],
   "source": [
    "answer = 0\n",
    "for i in range(100,1000):\n",
    "    for j in range(100,1000):\n",
    "        product = i * j\n",
    "        s = str(product)\n",
    "        palindrome = True\n",
    "        for k in range(int(len(s)/2)):\n",
    "            if s[k] != s[len(s)-k-1]:\n",
    "                palindrome = False\n",
    "                break\n",
    "        if palindrome and product > answer:\n",
    "            answer = product\n",
    "print(answer)"
   ]
  },
  {
   "cell_type": "code",
   "execution_count": null,
   "metadata": {},
   "outputs": [],
   "source": []
  }
 ],
 "metadata": {
  "kernelspec": {
   "display_name": "Python 3",
   "language": "python",
   "name": "python3"
  },
  "language_info": {
   "codemirror_mode": {
    "name": "ipython",
    "version": 3
   },
   "file_extension": ".py",
   "mimetype": "text/x-python",
   "name": "python",
   "nbconvert_exporter": "python",
   "pygments_lexer": "ipython3",
   "version": "3.7.9"
  }
 },
 "nbformat": 4,
 "nbformat_minor": 4
}
